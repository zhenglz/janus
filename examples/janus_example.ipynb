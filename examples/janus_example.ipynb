{
 "cells": [
  {
   "cell_type": "code",
   "execution_count": 1,
   "metadata": {},
   "outputs": [],
   "source": [
    "import janus\n",
    "from janus.qm_wrapper import Psi4Wrapper \n",
    "from janus.mm_wrapper import OpenMMWrapper \n",
    "from janus.qmmm import QMMM, OniomXS, HotSpot, PAP, SAP, DAS"
   ]
  },
  {
   "cell_type": "markdown",
   "metadata": {},
   "source": [
    "# Define a MM object"
   ]
  },
  {
   "cell_type": "code",
   "execution_count": 2,
   "metadata": {},
   "outputs": [],
   "source": [
    "pdbfile = \"fixed.pdb\"\n",
    "\n",
    "mm = OpenMMWrapper(pdbfile)"
   ]
  },
  {
   "cell_type": "code",
   "execution_count": 3,
   "metadata": {},
   "outputs": [
    {
     "data": {
      "text/plain": [
       "'amber99sb.xml'"
      ]
     },
     "execution_count": 3,
     "metadata": {},
     "output_type": "execute_result"
    }
   ],
   "source": [
    "mm.ff"
   ]
  },
  {
   "cell_type": "code",
   "execution_count": 4,
   "metadata": {},
   "outputs": [
    {
     "name": "stdout",
     "output_type": "stream",
     "text": [
      "starting main simulation\n",
      "topology going into system\n",
      "34\n"
     ]
    }
   ],
   "source": [
    "mm.initialize(\"Electrostatic\")"
   ]
  },
  {
   "cell_type": "code",
   "execution_count": 5,
   "metadata": {},
   "outputs": [],
   "source": [
    "pos = mm.positions\n",
    "top = mm.topology"
   ]
  },
  {
   "cell_type": "code",
   "execution_count": 6,
   "metadata": {},
   "outputs": [
    {
     "name": "stdout",
     "output_type": "stream",
     "text": [
      "topology going into system\n",
      "34\n"
     ]
    }
   ],
   "source": [
    "out = mm.compute_info(top, pos)"
   ]
  },
  {
   "cell_type": "code",
   "execution_count": null,
   "metadata": {},
   "outputs": [],
   "source": []
  },
  {
   "cell_type": "markdown",
   "metadata": {},
   "source": [
    "# Define a QM object"
   ]
  },
  {
   "cell_type": "code",
   "execution_count": 7,
   "metadata": {},
   "outputs": [],
   "source": [
    "qm = Psi4Wrapper(sys_info=pdbfile, sys_format=\"pdb\", multiplicity=1, charge=1)"
   ]
  },
  {
   "cell_type": "code",
   "execution_count": 8,
   "metadata": {},
   "outputs": [
    {
     "data": {
      "text/plain": [
       "{'sys_format': 'pdb',\n",
       " 'reference': 'rhf',\n",
       " 'basis': 'STO-3G',\n",
       " 'e_convergence': 1e-08,\n",
       " 'd_convergence': 1e-08}"
      ]
     },
     "execution_count": 8,
     "metadata": {},
     "output_type": "execute_result"
    }
   ],
   "source": [
    "qm.build_qm_param()"
   ]
  },
  {
   "cell_type": "markdown",
   "metadata": {},
   "source": [
    "# Define a QMMM object"
   ]
  },
  {
   "cell_type": "code",
   "execution_count": 9,
   "metadata": {},
   "outputs": [
    {
     "name": "stdout",
     "output_type": "stream",
     "text": [
      "pdb\n"
     ]
    }
   ],
   "source": [
    "qmmm = QMMM(qm, mm, qm_atoms=range(12), sys_info=pdbfile, embedding_method=\"Mechanical\", boundary_treatment='RC')"
   ]
  },
  {
   "cell_type": "code",
   "execution_count": 10,
   "metadata": {},
   "outputs": [
    {
     "data": {
      "text/plain": [
       "array([[ 2.9963,  0.2784,  4.427 ],\n",
       "       [ 2.9706,  0.2939,  4.5234],\n",
       "       [ 2.9122,  0.2742,  4.3712],\n",
       "       [ 3.07  ,  0.3429,  4.4023],\n",
       "       [ 3.0576,  0.1423,  4.4165],\n",
       "       [ 2.9995,  0.0803,  4.3482],\n",
       "       [ 3.2016,  0.151 ,  4.3644],\n",
       "       [ 3.2612,  0.212 ,  4.4323],\n",
       "       [ 3.2443,  0.0509,  4.3586],\n",
       "       [ 3.2018,  0.1963,  4.2653],\n",
       "       [ 3.0535,  0.0749,  4.5531],\n",
       "       [ 3.0776,  0.1403,  4.6551],\n",
       "       [ 3.0204, -0.0546,  4.5551],\n",
       "       [ 3.0058, -0.1033,  4.4644],\n",
       "       [ 3.0036, -0.1316,  4.6794],\n",
       "       [ 2.975 , -0.2331,  4.6519],\n",
       "       [ 3.0999, -0.1336,  4.7304],\n",
       "       [ 2.8985, -0.0743,  4.7741],\n",
       "       [ 2.8417,  0.0317,  4.7488],\n",
       "       [ 2.8769, -0.1442,  4.8853],\n",
       "       [ 2.9299, -0.2327,  4.8988],\n",
       "       [ 2.7831, -0.1036,  4.9893],\n",
       "       [ 2.7077, -0.0369,  4.9475],\n",
       "       [ 2.7124, -0.2269,  5.0483],\n",
       "       [ 2.7862, -0.2878,  5.1005],\n",
       "       [ 2.6019, -0.1855,  5.1462],\n",
       "       [ 2.528 , -0.1246,  5.0941],\n",
       "       [ 2.5536, -0.2746,  5.1864],\n",
       "       [ 2.6454, -0.1278,  5.2279],\n",
       "       [ 2.6542, -0.3025,  4.9409],\n",
       "       [ 2.6084, -0.3821,  4.9778],\n",
       "       [ 2.8527, -0.0249,  5.0999],\n",
       "       [ 2.9533, -0.0698,  5.1556],\n",
       "       [ 2.8104,  0.0853,  5.1342]], dtype=float32)"
      ]
     },
     "execution_count": 10,
     "metadata": {},
     "output_type": "execute_result"
    }
   ],
   "source": [
    "qmmm.positions"
   ]
  },
  {
   "cell_type": "code",
   "execution_count": 11,
   "metadata": {},
   "outputs": [
    {
     "data": {
      "text/plain": [
       "<janus.mm_wrapper.openmm_wrapper.OpenMMWrapper at 0x7f016c0b4c50>"
      ]
     },
     "execution_count": 11,
     "metadata": {},
     "output_type": "execute_result"
    }
   ],
   "source": [
    "qmmm.ll_wrapper"
   ]
  },
  {
   "cell_type": "code",
   "execution_count": 12,
   "metadata": {},
   "outputs": [
    {
     "data": {
      "text/plain": [
       "<Topology; 1 chains, 3 residues, 34 atoms, 33 bonds>"
      ]
     },
     "execution_count": 12,
     "metadata": {},
     "output_type": "execute_result"
    }
   ],
   "source": [
    "qmmm.ll_wrapper.topology"
   ]
  },
  {
   "cell_type": "code",
   "execution_count": 13,
   "metadata": {},
   "outputs": [
    {
     "data": {
      "text/plain": [
       "range(0, 12)"
      ]
     },
     "execution_count": 13,
     "metadata": {},
     "output_type": "execute_result"
    }
   ],
   "source": [
    "qmmm.qm_atoms"
   ]
  },
  {
   "cell_type": "code",
   "execution_count": 14,
   "metadata": {},
   "outputs": [],
   "source": [
    "atom = next(qmmm.ll_wrapper.topology.atoms())\n"
   ]
  },
  {
   "cell_type": "code",
   "execution_count": 15,
   "metadata": {},
   "outputs": [],
   "source": [
    "from janus.driver import run_single_point"
   ]
  },
  {
   "cell_type": "code",
   "execution_count": 16,
   "metadata": {},
   "outputs": [
    {
     "name": "stdout",
     "output_type": "stream",
     "text": [
      "topology going into system\n",
      "34\n",
      "entire -0.08995098183630289\n",
      "calling make primary subsys trajectory\n",
      "number of qm_atoms fed into make primary trajectory 12\n",
      "getting mm energy and gradient of qm region\n",
      "topology going into system\n",
      "13\n",
      "Loop through list of unmatched residues\n",
      "loop through all atoms in modified template and all atoms in orignal template to assign atom type\n",
      "check n\n",
      "check n\n",
      "check n\n",
      "register the new template to the forcefield object\n",
      "ll 0.05523248243406862\n",
      "getting qm energy and gradient of qm region\n",
      "QM Params {'sys_format': 'pdb', 'reference': 'rhf', 'basis': 'STO-3G', 'e_convergence': 1e-08, 'd_convergence': 1e-08}\n",
      "QM Params {'reference': 'rhf', 'basis': 'STO-3G', 'e_convergence': 1e-08, 'd_convergence': 1e-08}\n",
      "\n",
      "1 1\n",
      " N    29.963   2.784  44.270 \n",
      " H    29.706   2.939  45.234 \n",
      " H    29.122   2.742  43.712 \n",
      " H    30.700   3.429  44.023 \n",
      " C    30.576   1.423  44.165 \n",
      " H    29.995   0.803  43.482 \n",
      " C    32.016   1.510  43.644 \n",
      " H    32.612   2.120  44.323 \n",
      " H    32.443   0.509  43.586 \n",
      " H    32.018   1.963  42.653 \n",
      " C    30.535   0.749  45.531 \n",
      " O    30.776   1.403  46.551 \n",
      " H    30.292  -0.200  45.546 \n",
      " no_reorient \n",
      "no_com \n",
      " \n",
      "PSI4 GEO done\n",
      "Psi4 params set up done\n",
      "Method scf\n",
      "hl -244.23313503927332\n",
      "hl [[-1.02649393e-02  3.52455939e-02 -4.50844028e-03]\n",
      " [ 8.64205647e-03 -1.19600337e-02 -3.63331089e-02]\n",
      " [ 2.40646901e-02 -2.60373594e-02  2.51131206e-02]\n",
      " [-5.44988540e-03 -3.83820289e-02  1.89282868e-02]\n",
      " [-1.60278097e-02  5.13661036e-02  1.14137908e-02]\n",
      " [ 6.86352986e-03 -7.94960507e-03  4.16987828e-03]\n",
      " [-7.39860382e-03 -9.48764643e-03  3.99718296e-03]\n",
      " [-1.72464088e-03  3.11349931e-03  2.19981658e-03]\n",
      " [ 1.69912066e-03 -3.58636190e-03  5.25324427e-05]\n",
      " [-3.04163242e-03  2.63497581e-03 -9.47759503e-04]\n",
      " [-3.61780325e-02 -1.45689433e-01 -5.21996598e-02]\n",
      " [ 8.74344670e-03  1.35965834e-02  2.60546210e-02]\n",
      " [ 3.00727002e-02  1.37135712e-01  2.05973911e-03]]\n",
      "0 mm ps [ 1114.50528073 -2518.12288244     4.98151473]\n",
      "0 qm ps [  509.28984633 -1748.69257819   223.68401775]\n",
      "0 entire [  562.10432972 -1764.68865565   364.30033408]\n",
      "1 mm ps [-41.37745357 244.64505029 163.79796124]\n",
      "1 qm ps [-428.77132512  593.39111314 1802.64909268]\n",
      "1 entire [-14.0668584   39.21313513 248.94237349]\n",
      "2 mm ps [ 107.48157263  900.36072467 -229.3251943 ]\n",
      "2 qm ps [-1193.95760743  1291.83061011 -1245.97496275]\n",
      "2 entire [ 109.60273969  714.83854161 -166.71291599]\n",
      "3 mm ps [-589.17531264  563.52908349 -367.2366403 ]\n",
      "3 qm ps [ 270.39334853 1904.30523633 -939.11751972]\n",
      "3 entire [-487.55319807  413.35511029 -281.82822976]\n",
      "4 mm ps [-466.82918473  809.58317505  309.48912968]\n",
      "4 qm ps [  795.21179253 -2548.50363394  -566.28954115]\n",
      "4 entire [-136.78788887  603.02097147  409.2071927 ]\n",
      "5 mm ps [-45.74231544  67.58990815 -94.89189851]\n",
      "5 qm ps [-340.53061397  394.41569422 -206.88643292]\n",
      "5 entire [-32.64246313 101.212997   -34.54412097]\n",
      "6 mm ps [-277.27448079  199.45549998   26.35556522]\n",
      "6 qm ps [ 367.07804191  470.72484969 -198.3182405 ]\n",
      "6 entire [-174.46324479   15.69447352   10.99767531]\n",
      "7 mm ps [86.29753944  4.77158876  1.01305785]\n",
      "7 qm ps [  85.56719768 -154.47471682 -109.1428033 ]\n",
      "7 entire [83.7605426  -4.71618573  2.42727265]\n",
      "8 mm ps [ 63.94168824 -15.16254498 -31.63666024]\n",
      "8 qm ps [-84.30102493 177.93555864  -2.60637097]\n",
      "8 entire [ 47.93535393 -17.76595982 -21.64152321]\n",
      "9 mm ps [ 49.94871596  -1.65096867 -44.49370785]\n",
      "9 qm ps [ 150.90907698 -130.73301153   47.02261544]\n",
      "9 entire [ 46.47955612 -10.72229946 -39.88822575]\n",
      "10 mm ps [  61.32021771 -278.91153514  564.64119169]\n",
      "10 qm ps [1794.95505403 7228.30861645 2589.86010808]\n",
      "10 entire [-23.36380094 -80.78532293 656.79891975]\n",
      "11 mm ps [-132.40367079  -56.67607284 -266.46303415]\n",
      "11 qm ps [ -433.80175108  -674.58771092 -1292.68703938]\n",
      "11 entire [  316.44011307   155.55125213 -1058.79701239]\n",
      "! 0 -244.33735760027147\n"
     ]
    }
   ],
   "source": [
    "run_single_point(mm, qmmm)"
   ]
  },
  {
   "cell_type": "code",
   "execution_count": 17,
   "metadata": {},
   "outputs": [
    {
     "data": {
      "text/plain": [
       "array([[ 2.9963,  0.2784,  4.427 ],\n",
       "       [ 2.9706,  0.2939,  4.5234],\n",
       "       [ 2.9122,  0.2742,  4.3712],\n",
       "       [ 3.07  ,  0.3429,  4.4023],\n",
       "       [ 3.0576,  0.1423,  4.4165],\n",
       "       [ 2.9995,  0.0803,  4.3482],\n",
       "       [ 3.2016,  0.151 ,  4.3644],\n",
       "       [ 3.2612,  0.212 ,  4.4323],\n",
       "       [ 3.2443,  0.0509,  4.3586],\n",
       "       [ 3.2018,  0.1963,  4.2653],\n",
       "       [ 3.0535,  0.0749,  4.5531],\n",
       "       [ 3.0776,  0.1403,  4.6551],\n",
       "       [ 3.0204, -0.0546,  4.5551],\n",
       "       [ 3.0058, -0.1033,  4.4644],\n",
       "       [ 3.0036, -0.1316,  4.6794],\n",
       "       [ 2.975 , -0.2331,  4.6519],\n",
       "       [ 3.0999, -0.1336,  4.7304],\n",
       "       [ 2.8985, -0.0743,  4.7741],\n",
       "       [ 2.8417,  0.0317,  4.7488],\n",
       "       [ 2.8769, -0.1442,  4.8853],\n",
       "       [ 2.9299, -0.2327,  4.8988],\n",
       "       [ 2.7831, -0.1036,  4.9893],\n",
       "       [ 2.7077, -0.0369,  4.9475],\n",
       "       [ 2.7124, -0.2269,  5.0483],\n",
       "       [ 2.7862, -0.2878,  5.1005],\n",
       "       [ 2.6019, -0.1855,  5.1462],\n",
       "       [ 2.528 , -0.1246,  5.0941],\n",
       "       [ 2.5536, -0.2746,  5.1864],\n",
       "       [ 2.6454, -0.1278,  5.2279],\n",
       "       [ 2.6542, -0.3025,  4.9409],\n",
       "       [ 2.6084, -0.3821,  4.9778],\n",
       "       [ 2.8527, -0.0249,  5.0999],\n",
       "       [ 2.9533, -0.0698,  5.1556],\n",
       "       [ 2.8104,  0.0853,  5.1342]], dtype=float32)"
      ]
     },
     "execution_count": 17,
     "metadata": {},
     "output_type": "execute_result"
    }
   ],
   "source": [
    "qmmm.positions"
   ]
  },
  {
   "cell_type": "code",
   "execution_count": 25,
   "metadata": {},
   "outputs": [
    {
     "data": {
      "text/plain": [
       "'Mechanical'"
      ]
     },
     "execution_count": 25,
     "metadata": {},
     "output_type": "execute_result"
    }
   ],
   "source": [
    "qmmm.embedding_method"
   ]
  },
  {
   "cell_type": "code",
   "execution_count": null,
   "metadata": {},
   "outputs": [],
   "source": []
  },
  {
   "cell_type": "code",
   "execution_count": 18,
   "metadata": {},
   "outputs": [],
   "source": [
    "params = {'reference': 'RHF', 'basis': 'STO-3G', 'e_convergence': 1e-08, 'd_convergence': 1e-08}"
   ]
  },
  {
   "cell_type": "code",
   "execution_count": 19,
   "metadata": {},
   "outputs": [],
   "source": [
    "import psi4\n",
    "\n",
    "psi4.set_options(params)"
   ]
  },
  {
   "cell_type": "code",
   "execution_count": 20,
   "metadata": {},
   "outputs": [],
   "source": [
    "psi4_geom = \"\"\"\n",
    "1 1\n",
    " N    29.963   2.784  44.270 \n",
    " H    29.706   2.939  45.234 \n",
    " H    29.122   2.742  43.712 \n",
    " H    30.700   3.429  44.023 \n",
    " C    30.576   1.423  44.165 \n",
    " H    29.995   0.803  43.482 \n",
    " C    32.016   1.510  43.644 \n",
    " H    32.612   2.120  44.323 \n",
    " H    32.443   0.509  43.586 \n",
    " H    32.018   1.963  42.653 \n",
    " C    30.535   0.749  45.531 \n",
    " O    30.776   1.403  46.551 \n",
    " H    30.292  -0.200  45.546 \n",
    " \"\"\" "
   ]
  },
  {
   "cell_type": "code",
   "execution_count": 21,
   "metadata": {},
   "outputs": [],
   "source": [
    "geo = psi4.geometry(psi4_geom)"
   ]
  },
  {
   "cell_type": "code",
   "execution_count": 22,
   "metadata": {},
   "outputs": [
    {
     "data": {
      "text/plain": [
       "-244.233135038763"
      ]
     },
     "execution_count": 22,
     "metadata": {},
     "output_type": "execute_result"
    }
   ],
   "source": [
    "psi4.energy('scf', molecule=geo)"
   ]
  },
  {
   "cell_type": "code",
   "execution_count": 23,
   "metadata": {},
   "outputs": [],
   "source": [
    "dimer = psi4.geometry(\"\"\"\n",
    "0 1\n",
    "C   0.000000  -0.667578  -2.124659\n",
    "C   0.000000   0.667578  -2.124659\n",
    "H   0.923621  -1.232253  -2.126185\n",
    "H  -0.923621  -1.232253  -2.126185\n",
    "H  -0.923621   1.232253  -2.126185\n",
    "H   0.923621   1.232253  -2.126185\n",
    "--\n",
    "0 1\n",
    "C   0.000000   0.000000   2.900503\n",
    "C   0.000000   0.000000   1.693240\n",
    "H   0.000000   0.000000   0.627352\n",
    "H   0.000000   0.000000   3.963929\n",
    "units angstrom\n",
    "\"\"\")"
   ]
  },
  {
   "cell_type": "code",
   "execution_count": 24,
   "metadata": {},
   "outputs": [
    {
     "data": {
      "text/plain": [
       "-0.0022355824151802884"
      ]
     },
     "execution_count": 24,
     "metadata": {},
     "output_type": "execute_result"
    }
   ],
   "source": [
    "psi4.set_options({'scf_type': 'df',\n",
    "                  'freeze_core': 'true'})\n",
    "\n",
    "psi4.energy('sapt0/jun-cc-pvdz', molecule=dimer)"
   ]
  },
  {
   "cell_type": "code",
   "execution_count": null,
   "metadata": {},
   "outputs": [],
   "source": []
  }
 ],
 "metadata": {
  "kernelspec": {
   "display_name": "Python 3",
   "language": "python",
   "name": "python3"
  },
  "language_info": {
   "codemirror_mode": {
    "name": "ipython",
    "version": 3
   },
   "file_extension": ".py",
   "mimetype": "text/x-python",
   "name": "python",
   "nbconvert_exporter": "python",
   "pygments_lexer": "ipython3",
   "version": "3.6.13"
  }
 },
 "nbformat": 4,
 "nbformat_minor": 2
}
